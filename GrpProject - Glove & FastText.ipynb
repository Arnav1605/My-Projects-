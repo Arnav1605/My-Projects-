{
 "cells": [
  {
   "cell_type": "markdown",
   "id": "617dc357",
   "metadata": {},
   "source": [
    "### GloVe Embeddings"
   ]
  },
  {
   "cell_type": "code",
   "execution_count": 1,
   "id": "7dd9c42a",
   "metadata": {},
   "outputs": [
    {
     "name": "stdout",
     "output_type": "stream",
     "text": [
      "WARNING:tensorflow:From C:\\Users\\arnav\\AppData\\Roaming\\Python\\Python311\\site-packages\\keras\\src\\losses.py:2976: The name tf.losses.sparse_softmax_cross_entropy is deprecated. Please use tf.compat.v1.losses.sparse_softmax_cross_entropy instead.\n",
      "\n"
     ]
    }
   ],
   "source": [
    "import numpy as np\n",
    "import pandas as pd\n",
    "from gensim.models import Word2Vec\n",
    "from sklearn.model_selection import train_test_split\n",
    "from tensorflow.keras.models import Sequential\n",
    "from tensorflow.keras.layers import Dense, Embedding, Flatten\n",
    "from tensorflow.keras.preprocessing.text import Tokenizer\n",
    "from tensorflow.keras.preprocessing.sequence import pad_sequences\n"
   ]
  },
  {
   "cell_type": "code",
   "execution_count": 2,
   "id": "778dd07f",
   "metadata": {},
   "outputs": [],
   "source": [
    "# Download GloVe Embeddings and Load GloVe Embeddings\n",
    "glove_file_path = \"D:/SIBMB/SEM 4/DL/WORD2VEC/glove.6B/glove.6B.300d.txt\"\n",
    "embeddings_index = {}\n",
    "with open(glove_file_path, encoding=\"utf8\") as f:\n",
    "    for line in f:\n",
    "        values = line.split()\n",
    "        word = values[0]\n",
    "        coefs = np.asarray(values[1:], dtype='float32')\n",
    "        embeddings_index[word] = coefs\n"
   ]
  },
  {
   "cell_type": "code",
   "execution_count": 3,
   "id": "29144531",
   "metadata": {},
   "outputs": [],
   "source": [
    "# Read the CSV file\n",
    "df = pd.read_csv(\"D:/SIBMB/SEM 4/DL/PROJECT/Disaster Dataset/train.csv\", encoding='latin-1')\n"
   ]
  },
  {
   "cell_type": "code",
   "execution_count": 4,
   "id": "422a30ee",
   "metadata": {},
   "outputs": [],
   "source": [
    "# Tokenizing and padding the text data\n",
    "tokenizer = Tokenizer()\n",
    "tokenizer.fit_on_texts(df['text'])\n",
    "vocab_size = len(tokenizer.word_index) + 1\n",
    "sequences = tokenizer.texts_to_sequences(df['text'])\n",
    "max_length = max(len(seq) for seq in sequences)\n",
    "padded_sequences = pad_sequences(sequences, maxlen=max_length, padding='post')\n"
   ]
  },
  {
   "cell_type": "code",
   "execution_count": 5,
   "id": "78db062c",
   "metadata": {},
   "outputs": [],
   "source": [
    "# Creating an embedding matrix using GloVe\n",
    "embedding_matrix = np.zeros((vocab_size, 300))\n",
    "for word, i in tokenizer.word_index.items():\n",
    "    embedding_vector = embeddings_index.get(word)\n",
    "    if embedding_vector is not None:\n",
    "        embedding_matrix[i] = embedding_vector\n"
   ]
  },
  {
   "cell_type": "code",
   "execution_count": 6,
   "id": "0da7a464",
   "metadata": {},
   "outputs": [],
   "source": [
    "# Splitting the data into training and testing sets\n",
    "X_train, X_test, y_train, y_test = train_test_split(padded_sequences, pd.get_dummies(df['target']).values, test_size=0.2, random_state=42)\n"
   ]
  },
  {
   "cell_type": "code",
   "execution_count": 7,
   "id": "fef61988",
   "metadata": {},
   "outputs": [
    {
     "name": "stdout",
     "output_type": "stream",
     "text": [
      "WARNING:tensorflow:From C:\\Users\\arnav\\AppData\\Roaming\\Python\\Python311\\site-packages\\keras\\src\\backend.py:873: The name tf.get_default_graph is deprecated. Please use tf.compat.v1.get_default_graph instead.\n",
      "\n"
     ]
    }
   ],
   "source": [
    "# Building the ANN model\n",
    "model = Sequential()\n",
    "model.add(Embedding(input_dim=vocab_size, output_dim=300, weights=[embedding_matrix], input_length=max_length, trainable=False))\n",
    "model.add(Flatten())\n",
    "model.add(Dense(units=6, activation='relu'))\n",
    "model.add(Dense(units=len(df['target'].unique()), activation='softmax'))\n"
   ]
  },
  {
   "cell_type": "code",
   "execution_count": 8,
   "id": "f37e361c",
   "metadata": {},
   "outputs": [
    {
     "name": "stdout",
     "output_type": "stream",
     "text": [
      "WARNING:tensorflow:From C:\\Users\\arnav\\AppData\\Roaming\\Python\\Python311\\site-packages\\keras\\src\\optimizers\\__init__.py:309: The name tf.train.Optimizer is deprecated. Please use tf.compat.v1.train.Optimizer instead.\n",
      "\n"
     ]
    }
   ],
   "source": [
    "# Compiling the model\n",
    "model.compile(optimizer='adam', loss='categorical_crossentropy', metrics=['accuracy'])\n"
   ]
  },
  {
   "cell_type": "code",
   "execution_count": 9,
   "id": "bdf07dfe",
   "metadata": {
    "scrolled": false
   },
   "outputs": [
    {
     "name": "stdout",
     "output_type": "stream",
     "text": [
      "Epoch 1/50\n",
      "WARNING:tensorflow:From C:\\Users\\arnav\\AppData\\Roaming\\Python\\Python311\\site-packages\\keras\\src\\utils\\tf_utils.py:492: The name tf.ragged.RaggedTensorValue is deprecated. Please use tf.compat.v1.ragged.RaggedTensorValue instead.\n",
      "\n",
      "WARNING:tensorflow:From C:\\Users\\arnav\\AppData\\Roaming\\Python\\Python311\\site-packages\\keras\\src\\engine\\base_layer_utils.py:384: The name tf.executing_eagerly_outside_functions is deprecated. Please use tf.compat.v1.executing_eagerly_outside_functions instead.\n",
      "\n",
      "191/191 [==============================] - 3s 7ms/step - loss: 0.5278 - accuracy: 0.7438 - val_loss: 0.4759 - val_accuracy: 0.7912\n",
      "Epoch 2/50\n",
      "191/191 [==============================] - 1s 5ms/step - loss: 0.3715 - accuracy: 0.8373 - val_loss: 0.4865 - val_accuracy: 0.7932\n",
      "Epoch 3/50\n",
      "191/191 [==============================] - 1s 5ms/step - loss: 0.2971 - accuracy: 0.8813 - val_loss: 0.5435 - val_accuracy: 0.7820\n",
      "Epoch 4/50\n",
      "191/191 [==============================] - 1s 4ms/step - loss: 0.2389 - accuracy: 0.9036 - val_loss: 0.5617 - val_accuracy: 0.7840\n",
      "Epoch 5/50\n",
      "191/191 [==============================] - 1s 5ms/step - loss: 0.1929 - accuracy: 0.9322 - val_loss: 0.6129 - val_accuracy: 0.7728\n",
      "Epoch 6/50\n",
      "191/191 [==============================] - 1s 5ms/step - loss: 0.1612 - accuracy: 0.9478 - val_loss: 0.6701 - val_accuracy: 0.7636\n",
      "Epoch 7/50\n",
      "191/191 [==============================] - 1s 4ms/step - loss: 0.1322 - accuracy: 0.9611 - val_loss: 0.7353 - val_accuracy: 0.7649\n",
      "Epoch 8/50\n",
      "191/191 [==============================] - 1s 4ms/step - loss: 0.1116 - accuracy: 0.9696 - val_loss: 0.7801 - val_accuracy: 0.7630\n",
      "Epoch 9/50\n",
      "191/191 [==============================] - 1s 4ms/step - loss: 0.1092 - accuracy: 0.9686 - val_loss: 0.8369 - val_accuracy: 0.7715\n",
      "Epoch 10/50\n",
      "191/191 [==============================] - 1s 4ms/step - loss: 0.0880 - accuracy: 0.9744 - val_loss: 0.8660 - val_accuracy: 0.7669\n",
      "Epoch 11/50\n",
      "191/191 [==============================] - 1s 4ms/step - loss: 0.0841 - accuracy: 0.9760 - val_loss: 0.9160 - val_accuracy: 0.7557\n",
      "Epoch 12/50\n",
      "191/191 [==============================] - 1s 4ms/step - loss: 0.0802 - accuracy: 0.9770 - val_loss: 0.9187 - val_accuracy: 0.7617\n",
      "Epoch 13/50\n",
      "191/191 [==============================] - 1s 5ms/step - loss: 0.0722 - accuracy: 0.9793 - val_loss: 0.9986 - val_accuracy: 0.7663\n",
      "Epoch 14/50\n",
      "191/191 [==============================] - 1s 5ms/step - loss: 0.0741 - accuracy: 0.9778 - val_loss: 0.9958 - val_accuracy: 0.7584\n",
      "Epoch 15/50\n",
      "191/191 [==============================] - 1s 5ms/step - loss: 0.0650 - accuracy: 0.9803 - val_loss: 1.0181 - val_accuracy: 0.7584\n",
      "Epoch 16/50\n",
      "191/191 [==============================] - 1s 4ms/step - loss: 0.0709 - accuracy: 0.9787 - val_loss: 1.0276 - val_accuracy: 0.7525\n",
      "Epoch 17/50\n",
      "191/191 [==============================] - 1s 5ms/step - loss: 0.0651 - accuracy: 0.9806 - val_loss: 1.0475 - val_accuracy: 0.7656\n",
      "Epoch 18/50\n",
      "191/191 [==============================] - 1s 5ms/step - loss: 0.0638 - accuracy: 0.9806 - val_loss: 1.1120 - val_accuracy: 0.7577\n",
      "Epoch 19/50\n",
      "191/191 [==============================] - 1s 5ms/step - loss: 0.0597 - accuracy: 0.9795 - val_loss: 1.1010 - val_accuracy: 0.7557\n",
      "Epoch 20/50\n",
      "191/191 [==============================] - 1s 5ms/step - loss: 0.0649 - accuracy: 0.9773 - val_loss: 1.1251 - val_accuracy: 0.7590\n",
      "Epoch 21/50\n",
      "191/191 [==============================] - 1s 4ms/step - loss: 0.0585 - accuracy: 0.9814 - val_loss: 1.1203 - val_accuracy: 0.7577\n",
      "Epoch 22/50\n",
      "191/191 [==============================] - 1s 4ms/step - loss: 0.0639 - accuracy: 0.9808 - val_loss: 1.1293 - val_accuracy: 0.7459\n",
      "Epoch 23/50\n",
      "191/191 [==============================] - 1s 4ms/step - loss: 0.0534 - accuracy: 0.9821 - val_loss: 1.1256 - val_accuracy: 0.7472\n",
      "Epoch 24/50\n",
      "191/191 [==============================] - 1s 5ms/step - loss: 0.0584 - accuracy: 0.9811 - val_loss: 1.1774 - val_accuracy: 0.7531\n",
      "Epoch 25/50\n",
      "191/191 [==============================] - 1s 5ms/step - loss: 0.0631 - accuracy: 0.9803 - val_loss: 1.1849 - val_accuracy: 0.7584\n",
      "Epoch 26/50\n",
      "191/191 [==============================] - 1s 5ms/step - loss: 0.0654 - accuracy: 0.9800 - val_loss: 1.1623 - val_accuracy: 0.7492\n",
      "Epoch 27/50\n",
      "191/191 [==============================] - 1s 6ms/step - loss: 0.0633 - accuracy: 0.9826 - val_loss: 1.1662 - val_accuracy: 0.7485\n",
      "Epoch 28/50\n",
      "191/191 [==============================] - 1s 4ms/step - loss: 0.0561 - accuracy: 0.9826 - val_loss: 1.1802 - val_accuracy: 0.7630\n",
      "Epoch 29/50\n",
      "191/191 [==============================] - 1s 4ms/step - loss: 0.0542 - accuracy: 0.9839 - val_loss: 1.2252 - val_accuracy: 0.7603\n",
      "Epoch 30/50\n",
      "191/191 [==============================] - 1s 4ms/step - loss: 0.0538 - accuracy: 0.9821 - val_loss: 1.2037 - val_accuracy: 0.7663\n",
      "Epoch 31/50\n",
      "191/191 [==============================] - 1s 5ms/step - loss: 0.0541 - accuracy: 0.9818 - val_loss: 1.2476 - val_accuracy: 0.7498\n",
      "Epoch 32/50\n",
      "191/191 [==============================] - 1s 4ms/step - loss: 0.0505 - accuracy: 0.9833 - val_loss: 1.2175 - val_accuracy: 0.7544\n",
      "Epoch 33/50\n",
      "191/191 [==============================] - 1s 4ms/step - loss: 0.0487 - accuracy: 0.9833 - val_loss: 1.2532 - val_accuracy: 0.7452\n",
      "Epoch 34/50\n",
      "191/191 [==============================] - 1s 4ms/step - loss: 0.0517 - accuracy: 0.9828 - val_loss: 1.2477 - val_accuracy: 0.7511\n",
      "Epoch 35/50\n",
      "191/191 [==============================] - 1s 4ms/step - loss: 0.0506 - accuracy: 0.9826 - val_loss: 1.2328 - val_accuracy: 0.7551\n",
      "Epoch 36/50\n",
      "191/191 [==============================] - 1s 5ms/step - loss: 0.0502 - accuracy: 0.9829 - val_loss: 1.2237 - val_accuracy: 0.7511\n",
      "Epoch 37/50\n",
      "191/191 [==============================] - 1s 4ms/step - loss: 0.0464 - accuracy: 0.9836 - val_loss: 1.2518 - val_accuracy: 0.7485\n",
      "Epoch 38/50\n",
      "191/191 [==============================] - 1s 4ms/step - loss: 0.0494 - accuracy: 0.9833 - val_loss: 1.2812 - val_accuracy: 0.7584\n",
      "Epoch 39/50\n",
      "191/191 [==============================] - 1s 4ms/step - loss: 0.0568 - accuracy: 0.9841 - val_loss: 1.2660 - val_accuracy: 0.7452\n",
      "Epoch 40/50\n",
      "191/191 [==============================] - 1s 5ms/step - loss: 0.0456 - accuracy: 0.9833 - val_loss: 1.2659 - val_accuracy: 0.7518\n",
      "Epoch 41/50\n",
      "191/191 [==============================] - 1s 5ms/step - loss: 0.0438 - accuracy: 0.9836 - val_loss: 1.2409 - val_accuracy: 0.7505\n",
      "Epoch 42/50\n",
      "191/191 [==============================] - 1s 5ms/step - loss: 0.0414 - accuracy: 0.9836 - val_loss: 1.2800 - val_accuracy: 0.7466\n",
      "Epoch 43/50\n",
      "191/191 [==============================] - 1s 6ms/step - loss: 0.0446 - accuracy: 0.9836 - val_loss: 1.3436 - val_accuracy: 0.7584\n",
      "Epoch 44/50\n",
      "191/191 [==============================] - 1s 5ms/step - loss: 0.0503 - accuracy: 0.9828 - val_loss: 1.2328 - val_accuracy: 0.7590\n",
      "Epoch 45/50\n",
      "191/191 [==============================] - 1s 5ms/step - loss: 0.0472 - accuracy: 0.9823 - val_loss: 1.2981 - val_accuracy: 0.7452\n",
      "Epoch 46/50\n",
      "191/191 [==============================] - 1s 5ms/step - loss: 0.0511 - accuracy: 0.9814 - val_loss: 1.3690 - val_accuracy: 0.7538\n",
      "Epoch 47/50\n",
      "191/191 [==============================] - 1s 5ms/step - loss: 0.0468 - accuracy: 0.9833 - val_loss: 1.3222 - val_accuracy: 0.7531\n",
      "Epoch 48/50\n",
      "191/191 [==============================] - 1s 5ms/step - loss: 0.0391 - accuracy: 0.9847 - val_loss: 1.3437 - val_accuracy: 0.7577\n",
      "Epoch 49/50\n",
      "191/191 [==============================] - 1s 6ms/step - loss: 0.0426 - accuracy: 0.9837 - val_loss: 1.2952 - val_accuracy: 0.7610\n",
      "Epoch 50/50\n",
      "191/191 [==============================] - 1s 6ms/step - loss: 0.0442 - accuracy: 0.9831 - val_loss: 1.3370 - val_accuracy: 0.7564\n"
     ]
    },
    {
     "data": {
      "text/plain": [
       "<keras.src.callbacks.History at 0x1882215da90>"
      ]
     },
     "execution_count": 9,
     "metadata": {},
     "output_type": "execute_result"
    }
   ],
   "source": [
    "# Training the model\n",
    "model.fit(X_train, y_train, epochs=50, batch_size=32, validation_data=(X_test, y_test))\n",
    "\n"
   ]
  },
  {
   "cell_type": "code",
   "execution_count": 10,
   "id": "8e4230f1",
   "metadata": {},
   "outputs": [
    {
     "name": "stdout",
     "output_type": "stream",
     "text": [
      "48/48 [==============================] - 0s 3ms/step - loss: 1.3370 - accuracy: 0.7564\n",
      "Test Accuracy: 75.64%\n"
     ]
    }
   ],
   "source": [
    "# Evaluate the model on the test set\n",
    "loss, accuracy = model.evaluate(X_test, y_test)\n",
    "# Print the accuracy\n",
    "print(f'Test Accuracy: {accuracy * 100:.2f}%')"
   ]
  },
  {
   "cell_type": "markdown",
   "id": "6e351239",
   "metadata": {},
   "source": [
    "### FastText"
   ]
  },
  {
   "cell_type": "code",
   "execution_count": 11,
   "id": "b3b0da88",
   "metadata": {},
   "outputs": [],
   "source": [
    "from gensim.models import KeyedVectors\n",
    "from smart_open import open\n",
    "\n",
    "# Specify the path to the FastText .vec file\n",
    "fasttext_file_path = \"D:/SIBMB/SEM 4/DL/WORD2VEC/FastText/wiki-news-300d-1M.vec\"\n",
    "\n",
    "# Load FastText Embeddings using Gensim and smart_open\n",
    "with open(fasttext_file_path, 'rb') as f:\n",
    "    fasttext_model = KeyedVectors.load_word2vec_format(f, binary=False)"
   ]
  },
  {
   "cell_type": "code",
   "execution_count": 12,
   "id": "6d205e55",
   "metadata": {},
   "outputs": [],
   "source": [
    "# Tokenizing and padding the text data\n",
    "tokenizer = Tokenizer()\n",
    "tokenizer.fit_on_texts(df['text'])\n",
    "vocab_size = len(tokenizer.word_index) + 1\n",
    "sequences = tokenizer.texts_to_sequences(df['text'])\n",
    "max_length = max(len(seq) for seq in sequences)\n",
    "padded_sequences = pad_sequences(sequences, maxlen=max_length, padding='post')"
   ]
  },
  {
   "cell_type": "code",
   "execution_count": 13,
   "id": "77480a54",
   "metadata": {},
   "outputs": [],
   "source": [
    "# Creating an embedding matrix using FastText\n",
    "EMBEDDING_DIM = 300  # Adjust based on the dimension of your FastText embeddings\n",
    "embedding_matrix = np.zeros((vocab_size, EMBEDDING_DIM))\n",
    "for word, i in tokenizer.word_index.items():\n",
    "    if word in fasttext_model:\n",
    "        embedding_matrix[i] = fasttext_model[word]"
   ]
  },
  {
   "cell_type": "code",
   "execution_count": 14,
   "id": "cb463278",
   "metadata": {},
   "outputs": [],
   "source": [
    "# Splitting the data into training and testing sets\n",
    "X_train, X_test, y_train, y_test = train_test_split(padded_sequences, pd.get_dummies(df['target']).values, test_size=0.2, random_state=42)\n"
   ]
  },
  {
   "cell_type": "code",
   "execution_count": 15,
   "id": "48539245",
   "metadata": {},
   "outputs": [],
   "source": [
    "# Building the ANN model\n",
    "model = Sequential()\n",
    "model.add(Embedding(input_dim=vocab_size, output_dim=EMBEDDING_DIM, weights=[embedding_matrix], input_length=max_length, trainable=False))\n",
    "model.add(Flatten())\n",
    "model.add(Dense(units=6, activation='relu'))\n",
    "model.add(Dense(units=len(df['target'].unique()), activation='softmax'))\n"
   ]
  },
  {
   "cell_type": "code",
   "execution_count": 16,
   "id": "d60932a4",
   "metadata": {},
   "outputs": [],
   "source": [
    "# Compiling the model\n",
    "model.compile(optimizer='adam', loss='categorical_crossentropy', metrics=['accuracy'])\n"
   ]
  },
  {
   "cell_type": "code",
   "execution_count": 17,
   "id": "1b8cc229",
   "metadata": {
    "scrolled": false
   },
   "outputs": [
    {
     "name": "stdout",
     "output_type": "stream",
     "text": [
      "Epoch 1/50\n",
      "191/191 [==============================] - 2s 5ms/step - loss: 0.5721 - accuracy: 0.7062 - val_loss: 0.4832 - val_accuracy: 0.7892\n",
      "Epoch 2/50\n",
      "191/191 [==============================] - 1s 4ms/step - loss: 0.4066 - accuracy: 0.8302 - val_loss: 0.4658 - val_accuracy: 0.7905\n",
      "Epoch 3/50\n",
      "191/191 [==============================] - 1s 4ms/step - loss: 0.3246 - accuracy: 0.8703 - val_loss: 0.4750 - val_accuracy: 0.7879\n",
      "Epoch 4/50\n",
      "191/191 [==============================] - 1s 6ms/step - loss: 0.2732 - accuracy: 0.8941 - val_loss: 0.5008 - val_accuracy: 0.7800\n",
      "Epoch 5/50\n",
      "191/191 [==============================] - 1s 4ms/step - loss: 0.2345 - accuracy: 0.9118 - val_loss: 0.5267 - val_accuracy: 0.7846\n",
      "Epoch 6/50\n",
      "191/191 [==============================] - 1s 4ms/step - loss: 0.2032 - accuracy: 0.9268 - val_loss: 0.5867 - val_accuracy: 0.7636\n",
      "Epoch 7/50\n",
      "191/191 [==============================] - 1s 4ms/step - loss: 0.1822 - accuracy: 0.9356 - val_loss: 0.6053 - val_accuracy: 0.7689\n",
      "Epoch 8/50\n",
      "191/191 [==============================] - 1s 4ms/step - loss: 0.1599 - accuracy: 0.9465 - val_loss: 0.6368 - val_accuracy: 0.7663\n",
      "Epoch 9/50\n",
      "191/191 [==============================] - 1s 4ms/step - loss: 0.1490 - accuracy: 0.9535 - val_loss: 0.6782 - val_accuracy: 0.7702\n",
      "Epoch 10/50\n",
      "191/191 [==============================] - 1s 4ms/step - loss: 0.1328 - accuracy: 0.9555 - val_loss: 0.7349 - val_accuracy: 0.7754\n",
      "Epoch 11/50\n",
      "191/191 [==============================] - 1s 4ms/step - loss: 0.1216 - accuracy: 0.9622 - val_loss: 0.7488 - val_accuracy: 0.7564\n",
      "Epoch 12/50\n",
      "191/191 [==============================] - 1s 5ms/step - loss: 0.1144 - accuracy: 0.9663 - val_loss: 0.8069 - val_accuracy: 0.7577\n",
      "Epoch 13/50\n",
      "191/191 [==============================] - 1s 5ms/step - loss: 0.1069 - accuracy: 0.9685 - val_loss: 0.8504 - val_accuracy: 0.7663\n",
      "Epoch 14/50\n",
      "191/191 [==============================] - 1s 5ms/step - loss: 0.1026 - accuracy: 0.9709 - val_loss: 0.8564 - val_accuracy: 0.7643\n",
      "Epoch 15/50\n",
      "191/191 [==============================] - 1s 4ms/step - loss: 0.0925 - accuracy: 0.9713 - val_loss: 0.8840 - val_accuracy: 0.7682\n",
      "Epoch 16/50\n",
      "191/191 [==============================] - 1s 4ms/step - loss: 0.0981 - accuracy: 0.9719 - val_loss: 0.9347 - val_accuracy: 0.7485\n",
      "Epoch 17/50\n",
      "191/191 [==============================] - 1s 4ms/step - loss: 0.0897 - accuracy: 0.9762 - val_loss: 0.9600 - val_accuracy: 0.7538\n",
      "Epoch 18/50\n",
      "191/191 [==============================] - 1s 5ms/step - loss: 0.0842 - accuracy: 0.9780 - val_loss: 1.0102 - val_accuracy: 0.7630\n",
      "Epoch 19/50\n",
      "191/191 [==============================] - 1s 5ms/step - loss: 0.0840 - accuracy: 0.9764 - val_loss: 0.9897 - val_accuracy: 0.7505\n",
      "Epoch 20/50\n",
      "191/191 [==============================] - 1s 4ms/step - loss: 0.0806 - accuracy: 0.9790 - val_loss: 1.0364 - val_accuracy: 0.7630\n",
      "Epoch 21/50\n",
      "191/191 [==============================] - 1s 4ms/step - loss: 0.0739 - accuracy: 0.9801 - val_loss: 1.1055 - val_accuracy: 0.7518\n",
      "Epoch 22/50\n",
      "191/191 [==============================] - 1s 4ms/step - loss: 0.0794 - accuracy: 0.9808 - val_loss: 1.0638 - val_accuracy: 0.7597\n",
      "Epoch 23/50\n",
      "191/191 [==============================] - 1s 5ms/step - loss: 0.0791 - accuracy: 0.9793 - val_loss: 1.0835 - val_accuracy: 0.7505\n",
      "Epoch 24/50\n",
      "191/191 [==============================] - 1s 5ms/step - loss: 0.0762 - accuracy: 0.9814 - val_loss: 1.1049 - val_accuracy: 0.7590\n",
      "Epoch 25/50\n",
      "191/191 [==============================] - 1s 4ms/step - loss: 0.0775 - accuracy: 0.9788 - val_loss: 1.1009 - val_accuracy: 0.7433\n",
      "Epoch 26/50\n",
      "191/191 [==============================] - 1s 5ms/step - loss: 0.0712 - accuracy: 0.9823 - val_loss: 1.1212 - val_accuracy: 0.7538\n",
      "Epoch 27/50\n",
      "191/191 [==============================] - 1s 4ms/step - loss: 0.0732 - accuracy: 0.9808 - val_loss: 1.1326 - val_accuracy: 0.7426\n",
      "Epoch 28/50\n",
      "191/191 [==============================] - 1s 4ms/step - loss: 0.0738 - accuracy: 0.9811 - val_loss: 1.1430 - val_accuracy: 0.7479\n",
      "Epoch 29/50\n",
      "191/191 [==============================] - 1s 4ms/step - loss: 0.0677 - accuracy: 0.9814 - val_loss: 1.1554 - val_accuracy: 0.7557\n",
      "Epoch 30/50\n",
      "191/191 [==============================] - 1s 4ms/step - loss: 0.0662 - accuracy: 0.9823 - val_loss: 1.1308 - val_accuracy: 0.7525\n",
      "Epoch 31/50\n",
      "191/191 [==============================] - 1s 4ms/step - loss: 0.0719 - accuracy: 0.9796 - val_loss: 1.1868 - val_accuracy: 0.7498\n",
      "Epoch 32/50\n",
      "191/191 [==============================] - 1s 4ms/step - loss: 0.0719 - accuracy: 0.9811 - val_loss: 1.1761 - val_accuracy: 0.7538\n",
      "Epoch 33/50\n",
      "191/191 [==============================] - 1s 5ms/step - loss: 0.0617 - accuracy: 0.9821 - val_loss: 1.2225 - val_accuracy: 0.7577\n",
      "Epoch 34/50\n",
      "191/191 [==============================] - 1s 4ms/step - loss: 0.0653 - accuracy: 0.9805 - val_loss: 1.2295 - val_accuracy: 0.7511\n",
      "Epoch 35/50\n",
      "191/191 [==============================] - 1s 4ms/step - loss: 0.0618 - accuracy: 0.9821 - val_loss: 1.2288 - val_accuracy: 0.7485\n",
      "Epoch 36/50\n",
      "191/191 [==============================] - 1s 4ms/step - loss: 0.0647 - accuracy: 0.9821 - val_loss: 1.2210 - val_accuracy: 0.7511\n",
      "Epoch 37/50\n",
      "191/191 [==============================] - 1s 4ms/step - loss: 0.0675 - accuracy: 0.9805 - val_loss: 1.2205 - val_accuracy: 0.7511\n",
      "Epoch 38/50\n",
      "191/191 [==============================] - 1s 4ms/step - loss: 0.0661 - accuracy: 0.9813 - val_loss: 1.2188 - val_accuracy: 0.7505\n",
      "Epoch 39/50\n",
      "191/191 [==============================] - 1s 4ms/step - loss: 0.0610 - accuracy: 0.9818 - val_loss: 1.2869 - val_accuracy: 0.7459\n",
      "Epoch 40/50\n",
      "191/191 [==============================] - 1s 4ms/step - loss: 0.0607 - accuracy: 0.9818 - val_loss: 1.2565 - val_accuracy: 0.7525\n",
      "Epoch 41/50\n",
      "191/191 [==============================] - 1s 4ms/step - loss: 0.0632 - accuracy: 0.9816 - val_loss: 1.2814 - val_accuracy: 0.7406\n",
      "Epoch 42/50\n",
      "191/191 [==============================] - 1s 4ms/step - loss: 0.0619 - accuracy: 0.9814 - val_loss: 1.2697 - val_accuracy: 0.7413\n",
      "Epoch 43/50\n",
      "191/191 [==============================] - 1s 4ms/step - loss: 0.0597 - accuracy: 0.9818 - val_loss: 1.2955 - val_accuracy: 0.7406\n",
      "Epoch 44/50\n",
      "191/191 [==============================] - 1s 5ms/step - loss: 0.0641 - accuracy: 0.9814 - val_loss: 1.2288 - val_accuracy: 0.7446\n",
      "Epoch 45/50\n",
      "191/191 [==============================] - 1s 4ms/step - loss: 0.0617 - accuracy: 0.9821 - val_loss: 1.2760 - val_accuracy: 0.7459\n",
      "Epoch 46/50\n",
      "191/191 [==============================] - 1s 4ms/step - loss: 0.0615 - accuracy: 0.9813 - val_loss: 1.2606 - val_accuracy: 0.7433\n",
      "Epoch 47/50\n",
      "191/191 [==============================] - 1s 4ms/step - loss: 0.0554 - accuracy: 0.9829 - val_loss: 1.2562 - val_accuracy: 0.7466\n",
      "Epoch 48/50\n",
      "191/191 [==============================] - 1s 4ms/step - loss: 0.0601 - accuracy: 0.9816 - val_loss: 1.2631 - val_accuracy: 0.7393\n",
      "Epoch 49/50\n",
      "191/191 [==============================] - 1s 4ms/step - loss: 0.0597 - accuracy: 0.9824 - val_loss: 1.2956 - val_accuracy: 0.7492\n",
      "Epoch 50/50\n",
      "191/191 [==============================] - 1s 5ms/step - loss: 0.0591 - accuracy: 0.9828 - val_loss: 1.2827 - val_accuracy: 0.7420\n"
     ]
    },
    {
     "data": {
      "text/plain": [
       "<keras.src.callbacks.History at 0x18861eefed0>"
      ]
     },
     "execution_count": 17,
     "metadata": {},
     "output_type": "execute_result"
    }
   ],
   "source": [
    "# Training the model\n",
    "model.fit(X_train, y_train, epochs=50, batch_size=32, validation_data=(X_test, y_test))"
   ]
  },
  {
   "cell_type": "code",
   "execution_count": 18,
   "id": "47652c55",
   "metadata": {},
   "outputs": [
    {
     "name": "stdout",
     "output_type": "stream",
     "text": [
      "48/48 [==============================] - 0s 3ms/step - loss: 1.2827 - accuracy: 0.7420\n",
      "Test Accuracy: 74.20%\n"
     ]
    }
   ],
   "source": [
    "# Evaluate the model on the test set\n",
    "loss, accuracy = model.evaluate(X_test, y_test)\n",
    "\n",
    "# Print the accuracy\n",
    "print(f'Test Accuracy: {accuracy * 100:.2f}%')"
   ]
  }
 ],
 "metadata": {
  "kernelspec": {
   "display_name": "Python 3 (ipykernel)",
   "language": "python",
   "name": "python3"
  },
  "language_info": {
   "codemirror_mode": {
    "name": "ipython",
    "version": 3
   },
   "file_extension": ".py",
   "mimetype": "text/x-python",
   "name": "python",
   "nbconvert_exporter": "python",
   "pygments_lexer": "ipython3",
   "version": "3.11.5"
  }
 },
 "nbformat": 4,
 "nbformat_minor": 5
}
